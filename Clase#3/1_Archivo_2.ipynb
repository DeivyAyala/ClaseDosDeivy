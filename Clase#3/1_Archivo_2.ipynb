{
 "cells": [
  {
   "cell_type": "code",
   "execution_count": 47,
   "metadata": {},
   "outputs": [
    {
     "name": "stdout",
     "output_type": "stream",
     "text": [
      "14\n",
      "Seccion uno\n",
      "['a', 'b', 1, 1.8]\n"
     ]
    }
   ],
   "source": [
    "#Variable entera\n",
    "\n",
    "\n",
    "variable_int = 14;\n",
    "print(variable_int);\n",
    "print(\"Seccion uno\");\n",
    "\n",
    "texto = \"thisStringsAwmars\";\n",
    "texto.upper();\n",
    "texto.lower();\n",
    "texto.count(\"th\");\n",
    "texto.replace(\"th\",\"ht\");\n",
    "texto2= \"SumadeString\";\n",
    "\n",
    "#Concatenar\n",
    "\n",
    "texto + texto2;\n",
    "\"m\" in texto;\n",
    "\n",
    "lista = ['a', \"b\", 1, 1.8];\n",
    "print(lista[0:4])\n",
    "\n"
   ]
  },
  {
   "cell_type": "code",
   "execution_count": 21,
   "metadata": {},
   "outputs": [
    {
     "name": "stdout",
     "output_type": "stream",
     "text": [
      "Seccion dos\n",
      "HOLA\n"
     ]
    }
   ],
   "source": [
    "print(\"Seccion dos\");\n",
    "my_string = \"hola\";\n",
    "print(my_string.upper());"
   ]
  }
 ],
 "metadata": {
  "kernelspec": {
   "display_name": "Python 3",
   "language": "python",
   "name": "python3"
  },
  "language_info": {
   "codemirror_mode": {
    "name": "ipython",
    "version": 3
   },
   "file_extension": ".py",
   "mimetype": "text/x-python",
   "name": "python",
   "nbconvert_exporter": "python",
   "pygments_lexer": "ipython3",
   "version": "3.12.0"
  }
 },
 "nbformat": 4,
 "nbformat_minor": 2
}
